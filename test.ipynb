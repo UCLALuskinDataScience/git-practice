{
 "cells": [
  {
   "cell_type": "markdown",
   "id": "94577820-0441-4bc5-b112-5c3eba46f7ac",
   "metadata": {},
   "source": [
    "Hello!"
   ]
  },
  {
   "cell_type": "markdown",
   "id": "a14b2be6-aef2-47ff-98f4-f0285463570d",
   "metadata": {},
   "source": [
    "Are there any overlaps?"
   ]
  }
 ],
 "metadata": {
  "kernelspec": {
   "display_name": "Python 3 (ipykernel)",
   "language": "python",
   "name": "python3"
  },
  "language_info": {
   "codemirror_mode": {
    "name": "ipython",
    "version": 3
   },
   "file_extension": ".py",
   "mimetype": "text/x-python",
   "name": "python",
   "nbconvert_exporter": "python",
   "pygments_lexer": "ipython3",
   "version": "3.12.9"
  }
 },
 "nbformat": 4,
 "nbformat_minor": 5
}
